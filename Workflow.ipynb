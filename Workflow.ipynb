{
 "cells": [
  {
   "cell_type": "code",
   "execution_count": 48,
   "id": "e52eda56",
   "metadata": {},
   "outputs": [
    {
     "name": "stdout",
     "output_type": "stream",
     "text": [
      "Requirement already satisfied: numexpr in c:\\users\\paul\\anaconda3\\lib\\site-packages (2.9.0)\n",
      "Collecting numexpr\n",
      "  Downloading numexpr-2.10.0-cp39-cp39-win_amd64.whl.metadata (8.1 kB)\n",
      "Requirement already satisfied: numpy>=1.19.3 in c:\\users\\paul\\anaconda3\\lib\\site-packages (from numexpr) (1.23.5)\n",
      "Downloading numexpr-2.10.0-cp39-cp39-win_amd64.whl (97 kB)\n",
      "   ---------------------------------------- 97.0/97.0 kB 5.4 MB/s eta 0:00:00\n",
      "Installing collected packages: numexpr\n",
      "  Attempting uninstall: numexpr\n",
      "    Found existing installation: numexpr 2.9.0\n",
      "    Uninstalling numexpr-2.9.0:\n",
      "      Successfully uninstalled numexpr-2.9.0\n",
      "Successfully installed numexpr-2.10.0\n",
      "Note: you may need to restart the kernel to use updated packages.\n"
     ]
    },
    {
     "name": "stderr",
     "output_type": "stream",
     "text": [
      "  WARNING: Failed to remove contents in a temporary directory 'C:\\Users\\Paul\\anaconda3\\Lib\\site-packages\\~-mexpr'.\n",
      "  You can safely remove it manually.\n"
     ]
    }
   ],
   "source": [
    "pip install --upgrade numexpr\n"
   ]
  },
  {
   "cell_type": "code",
   "execution_count": 41,
   "id": "66847148",
   "metadata": {},
   "outputs": [],
   "source": [
    "import os\n",
    "import pandas as pd"
   ]
  },
  {
   "cell_type": "markdown",
   "id": "04a8d1d5",
   "metadata": {},
   "source": [
    "# Import"
   ]
  },
  {
   "cell_type": "markdown",
   "id": "2530a2d7",
   "metadata": {},
   "source": [
    "### Read data"
   ]
  },
  {
   "cell_type": "code",
   "execution_count": 47,
   "id": "f03c4894",
   "metadata": {},
   "outputs": [],
   "source": [
    "#Create mapping\n",
    "mapping_path = \"03_Mapping/Vehicle_Type_Mapping.xlsx\"\n",
    "mapping = pd.read_excel(mapping_path)\n",
    "mapping_dct = dict(zip(mapping['Key'], mapping['Mapping']))\n",
    "\n",
    "#Read man counts\n",
    "man_path = \"01_Input/Manual_Counts\"\n",
    "man_data = []\n",
    "man_loc = []\n",
    "\n",
    "for file in os.listdir(man_path):\n",
    "    #Read all excel files\n",
    "    if file.endswith(\".xlsx\"):\n",
    "        loc = file[0:3]\n",
    "        data = pd.read_excel(os.path.join(man_path, file))\n",
    "        data.rename(mapper=mapping_dct, axis=1, inplace=True)\n",
    "        data['Timestamp'] = data['Timestamp'] + pd.to_timedelta(1, unit='s')\n",
    "        data['Timestamp'] = data['Timestamp'].dt.floor('1min')\n",
    "        #check if data for this loc already exists, then append or create new loc\n",
    "        if loc in man_loc:\n",
    "            index = man_loc.index(loc)\n",
    "            man_data[index] = pd.concat([man_data[index], data], ignore_index=True)\n",
    "        else:\n",
    "            man_data.append(data)\n",
    "            man_loc.append(loc)\n",
    "            \n",
    "\n",
    "        \n",
    "#Read cam counts\n",
    "cam_path = \"01_Input/Camera_Counts\"\n",
    "cam_data = []\n",
    "cam_loc = []\n",
    "\n",
    "for file in os.listdir(cam_path):\n",
    "    #Read all csv files\n",
    "    if file.endswith(\".csv\"):\n",
    "        loc = file[0:3]\n",
    "        data = pd.read_csv(os.path.join(cam_path, file))\n",
    "        data.rename(mapper=mapping_dct, axis=1, inplace=True)\n",
    "        #Adjust format of timestamps\n",
    "        data['Timestamp'] = pd.to_datetime(data['Timestamp'])\n",
    "        if data['Timestamp'].dt.tz is not None:\n",
    "            data['Timestamp'] = data['Timestamp'].dt.tz_convert(None)\n",
    "        #check if data for this loc already exists, then append or create new loc\n",
    "        if loc in cam_loc:\n",
    "            index = cam_loc.index(loc)\n",
    "            cam_data[index] = pd.concat([cam_data[index], data], ignore_index=True)\n",
    "        else:\n",
    "            cam_data.append(data)\n",
    "            cam_loc.append(loc)\n",
    "            \n",
    "#Read local counts\n",
    "local_path = \"01_Input/Local_Counts\"\n",
    "local_data = []\n",
    "local_loc = []\n",
    "\n",
    "for file in os.listdir(local_path):\n",
    "    #Read all excel files\n",
    "    if file.endswith(\".xlsx\"):\n",
    "        loc = file[0:3]\n",
    "        data = pd.read_excel(os.path.join(local_path, file))\n",
    "        data.rename(mapper=mapping_dct, axis=1, inplace=True)\n",
    "        data['Timestamp'] = data['Timestamp'] + pd.to_timedelta(1, unit='s')\n",
    "        data['Timestamp'] = data['Timestamp'].dt.floor('1min')\n",
    "        #check if data for this loc already exists, then append or create new loc\n",
    "        if loc in local_loc:\n",
    "            index = local_loc.index(loc)\n",
    "            local_data[index] = pd.concat([local_data[index], data], ignore_index=True)\n",
    "        else:\n",
    "            local_data.append(data)\n",
    "            local_loc.append(loc)\n",
    "            \n",
    "#Read induction loop counts\n",
    "inLoop_path = \"01_Input/Induction_Loop_Counts\"\n",
    "inLoop_data = []\n",
    "inLoop_loc = []\n",
    "\n",
    "for file in os.listdir(inLoop_path):\n",
    "    #Read all csv files\n",
    "    if file.endswith(\".csv\"):\n",
    "        loc = file[0:3]\n",
    "        data = pd.read_csv(os.path.join(inLoop_path, file), encoding='latin1', sep=\";\")\n",
    "        data.rename(mapper=mapping_dct, axis=1, inplace=True)\n",
    "        #Adjust format of timestamps\n",
    "        data['Timestamp'] = pd.to_datetime(data['Timestamp'], format=\"%d.%m.%Y %H:%M\")\n",
    "        #check if data for this loc already exists, then append or create new loc\n",
    "        if loc in inLoop_loc:\n",
    "            index = inLoop_loc.index(loc)\n",
    "            inLoop_data[index] = pd.concat([inLoop_data[index], data], ignore_index=True)\n",
    "        else:\n",
    "            inLoop_data.append(data)\n",
    "            inLoop_loc.append(loc)"
   ]
  },
  {
   "cell_type": "markdown",
   "id": "fa01c843",
   "metadata": {},
   "source": [
    "### Filter data"
   ]
  },
  {
   "cell_type": "code",
   "execution_count": 48,
   "id": "07aebc03",
   "metadata": {},
   "outputs": [],
   "source": [
    "man_data_fil_hour = []\n",
    "\n",
    "#filter to only have data from complete hours\n",
    "for df in man_data:\n",
    "    df['Date'] = df['Timestamp'].dt.date\n",
    "    df['Hour'] = df['Timestamp'].dt.hour\n",
    "    grouped = df.groupby(['Date', 'Hour'])\n",
    "    counts = grouped.size()\n",
    "    incomplete_indices = counts[counts != 6].index\n",
    "    man_data_fil_hour.append(df[~df.set_index(['Date', 'Hour']).index.isin(incomplete_indices)])\n",
    "    #df.drop(['Date', 'Hour'], axis=1, inplace=True)"
   ]
  },
  {
   "cell_type": "code",
   "execution_count": 49,
   "id": "41587cf0",
   "metadata": {},
   "outputs": [],
   "source": [
    "#Filtered version of cam_data only containing timeframes available in man_data\n",
    "cam_data_fil = [None] * len(cam_data)\n",
    "\n",
    "#Fill the list\n",
    "index_man = 0\n",
    "for loc in man_loc:\n",
    "    if loc in cam_loc:\n",
    "        index_cam = cam_loc.index(loc)\n",
    "        cam_data_fil[index_cam] = pd.merge(cam_data[index_cam], \n",
    "                                           man_data[index_man]['Timestamp'], on='Timestamp', how='inner')\n",
    "    index_man +=1\n",
    "    \n",
    "#Filtered version of local_data only containing timeframes available in man_data\n",
    "local_data_fil = [None] * len(cam_data)\n",
    "\n",
    "#Fill the list\n",
    "index_man = 0\n",
    "for loc in man_loc:\n",
    "    if loc in local_loc:\n",
    "        index_local = local_loc.index(loc)\n",
    "        local_data_fil[index_local] = pd.merge(local_data[index_local], \n",
    "                                           man_data[index_man]['Timestamp'], on='Timestamp', how='inner')\n",
    "    index_man +=1\n",
    "\n",
    "\n",
    "#Version of cam_data_fil only containing data where data for entire hour are available\n",
    "cam_data_fil_hour = [None] * len(cam_data)\n",
    "\n",
    "#Version of local_data_fil only containing data where data for entire hour are available\n",
    "local_data_fil_hour = [None] * len(cam_data)\n",
    "\n",
    "#Filtered version of inLoop_data only containing timeframes available in man_data_fil\n",
    "inLoop_data_fil_hour = [None] * len(inLoop_data)\n",
    "\n",
    "#Fill both lists\n",
    "index_man = 0\n",
    "for loc in man_loc:\n",
    "    if loc in cam_loc:\n",
    "        index_cam = cam_loc.index(loc)\n",
    "        cam_data_fil_hour[index_cam] = pd.merge(cam_data[index_cam], \n",
    "                                                man_data_fil_hour[index_man]['Timestamp'], on='Timestamp', how='inner')\n",
    "    if loc in inLoop_loc:\n",
    "        index_inLoop = inLoop_loc.index(loc)\n",
    "        inLoop_data_fil_hour[index_inLoop] = pd.merge(inLoop_data[index_inLoop], \n",
    "                                                man_data_fil_hour[index_man]['Timestamp'], on='Timestamp', how='inner')\n",
    "    if loc in local_loc:\n",
    "        index_local = local_loc.index(loc)\n",
    "        local_data_fil_hour[index_local] = pd.merge(local_data[index_local], \n",
    "                                                man_data_fil_hour[index_man]['Timestamp'], on='Timestamp', how='inner')\n",
    "    index_man +=1"
   ]
  },
  {
   "cell_type": "markdown",
   "id": "784bd14f",
   "metadata": {},
   "source": [
    "# Export"
   ]
  },
  {
   "cell_type": "markdown",
   "id": "58f8cf82",
   "metadata": {},
   "source": [
    "### Manual count timeframe"
   ]
  },
  {
   "cell_type": "code",
   "execution_count": 50,
   "id": "0f182847",
   "metadata": {},
   "outputs": [],
   "source": [
    "export_path = \"02_Output/Manual_Count_Timeframe-10_Minute_Intervall/\"\n",
    "\n",
    "for i in range(len(man_data)):\n",
    "    man_data[i].to_excel(export_path + man_loc[i] + \"_man_data.xlsx\")  \n",
    "    if man_loc[i] in cam_loc:\n",
    "        loc_index = cam_loc.index(man_loc[i])\n",
    "        cam_data_fil[loc_index].to_excel(export_path + cam_loc[loc_index] + \"_cam_data.xlsx\")\n",
    "    if man_loc[i] in local_loc:\n",
    "        loc_index = local_loc.index(man_loc[i])\n",
    "        local_data_fil[loc_index].to_excel(export_path + local_loc[loc_index] + \"_local_data.xlsx\")  "
   ]
  },
  {
   "cell_type": "markdown",
   "id": "bfe8cc8f",
   "metadata": {},
   "source": [
    "### Manual count timeframe - complete hours"
   ]
  },
  {
   "cell_type": "code",
   "execution_count": 55,
   "id": "bb6ee3fc",
   "metadata": {},
   "outputs": [],
   "source": [
    "export_path = \"02_Output/Manual_Count_Timeframe-1_Hour_Intervall/\"\n",
    "\n",
    "for i in range(len(man_data)):\n",
    "    man_data_fil_hour[i].to_excel(export_path + man_loc[i] + \"_man_data.xlsx\")  \n",
    "    if man_loc[i] in cam_loc:\n",
    "        cam_index = cam_loc.index(man_loc[i])\n",
    "        cam_data_fil_hour[cam_index].to_excel(export_path + cam_loc[cam_index] + \"_cam_data.xlsx\")\n",
    "    if man_loc[i] in local_loc:\n",
    "        loc_index = local_loc.index(man_loc[i])\n",
    "        local_data_fil_hour[loc_index].to_excel(export_path + local_loc[loc_index] + \"_local_data.xlsx\")\n",
    "    if man_loc[i] in inLoop_loc:\n",
    "        inLoop_index = inLoop_loc.index(man_loc[i])\n",
    "        #Drop irrelevant columns\n",
    "        relevant_columns = [\"Timestamp\", \"Total\"]\n",
    "        inLoop_data_fil_hour[inLoop_index][relevant_columns].to_excel(export_path + inLoop_loc[inLoop_index] + \"_inLoop_data.xlsx\")"
   ]
  },
  {
   "cell_type": "code",
   "execution_count": null,
   "id": "2d7ec4be",
   "metadata": {},
   "outputs": [],
   "source": []
  },
  {
   "cell_type": "code",
   "execution_count": null,
   "id": "defaac67",
   "metadata": {},
   "outputs": [],
   "source": []
  }
 ],
 "metadata": {
  "kernelspec": {
   "display_name": "Python 3 (ipykernel)",
   "language": "python",
   "name": "python3"
  },
  "language_info": {
   "codemirror_mode": {
    "name": "ipython",
    "version": 3
   },
   "file_extension": ".py",
   "mimetype": "text/x-python",
   "name": "python",
   "nbconvert_exporter": "python",
   "pygments_lexer": "ipython3",
   "version": "3.9.13"
  }
 },
 "nbformat": 4,
 "nbformat_minor": 5
}
