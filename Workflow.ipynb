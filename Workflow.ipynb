{
 "cells": [
  {
   "cell_type": "code",
   "execution_count": 68,
   "id": "e52eda56",
   "metadata": {},
   "outputs": [
    {
     "name": "stdout",
     "output_type": "stream",
     "text": [
      "Requirement already satisfied: pandas in c:\\users\\paul\\anaconda3\\lib\\site-packages (2.2.1)\n",
      "Requirement already satisfied: numpy<2,>=1.22.4 in c:\\users\\paul\\anaconda3\\lib\\site-packages (from pandas) (1.23.5)\n",
      "Requirement already satisfied: python-dateutil>=2.8.2 in c:\\users\\paul\\anaconda3\\lib\\site-packages (from pandas) (2.8.2)\n",
      "Requirement already satisfied: pytz>=2020.1 in c:\\users\\paul\\anaconda3\\lib\\site-packages (from pandas) (2022.1)\n",
      "Requirement already satisfied: tzdata>=2022.7 in c:\\users\\paul\\anaconda3\\lib\\site-packages (from pandas) (2023.3)\n",
      "Requirement already satisfied: six>=1.5 in c:\\users\\paul\\anaconda3\\lib\\site-packages (from python-dateutil>=2.8.2->pandas) (1.16.0)\n",
      "Note: you may need to restart the kernel to use updated packages.\n"
     ]
    },
    {
     "name": "stderr",
     "output_type": "stream",
     "text": [
      "\n",
      "[notice] A new release of pip is available: 23.1.2 -> 24.0\n",
      "[notice] To update, run: python.exe -m pip install --upgrade pip\n"
     ]
    }
   ],
   "source": [
    "pip install pandas"
   ]
  },
  {
   "cell_type": "code",
   "execution_count": 69,
   "id": "66847148",
   "metadata": {},
   "outputs": [],
   "source": [
    "import os\n",
    "import pandas as pd"
   ]
  },
  {
   "cell_type": "markdown",
   "id": "04a8d1d5",
   "metadata": {},
   "source": [
    "# Import counts"
   ]
  },
  {
   "cell_type": "markdown",
   "id": "2530a2d7",
   "metadata": {},
   "source": [
    "### Read data"
   ]
  },
  {
   "cell_type": "code",
   "execution_count": 247,
   "id": "f03c4894",
   "metadata": {},
   "outputs": [],
   "source": [
    "#Read man counts\n",
    "man_path = \"01_Input/Manual_Counts\"\n",
    "man_data = []\n",
    "man_loc = []\n",
    "\n",
    "for file in os.listdir(man_path):\n",
    "    #Read all excel files\n",
    "    if file.endswith(\".xlsx\"):\n",
    "        loc = file[0:3]\n",
    "        data = pd.read_excel(os.path.join(man_path, file))\n",
    "        data['Timestamp'] = data['Timestamp'].dt.floor('1s')\n",
    "        #check if data for this loc already exists, then append or create new loc\n",
    "        if loc in man_loc:\n",
    "            index = man_loc.index(loc)\n",
    "            man_data[index] = pd.concat([man_data[index], data], ignore_index=True)\n",
    "        else:\n",
    "            man_data.append(data)\n",
    "            man_loc.append(loc)\n",
    "        \n",
    "#Read cam counts\n",
    "cam_path = \"01_Input/Camera_Counts\"\n",
    "cam_data = []\n",
    "cam_loc = []\n",
    "\n",
    "for file in os.listdir(cam_path):\n",
    "    #Read all csv files\n",
    "    if file.endswith(\".csv\"):\n",
    "        loc = file[0:3]\n",
    "        data = pd.read_csv(os.path.join(cam_path, file))\n",
    "        data.rename(columns={\"Unnamed: 0\": \"Timestamp\"}, inplace=True)\n",
    "        #Adjust format of timestamps\n",
    "        data['Timestamp'] = pd.to_datetime(data['Timestamp'])\n",
    "        data['Timestamp'] = data['Timestamp'].dt.tz_convert(None)\n",
    "        #check if data for this loc already exists, then append or create new loc\n",
    "        if loc in cam_loc:\n",
    "            index = cam_loc.index(loc)\n",
    "            cam_data[index] = pd.concat([cam_data[index], data], ignore_index=True)\n",
    "        else:\n",
    "            cam_data.append(data)\n",
    "            cam_loc.append(loc)\n",
    "            \n",
    "#Read induction loop counts\n",
    "inLoop_path = \"01_Input/Induction_Loop_Counts\"\n",
    "inLoop_data = []\n",
    "inLoop_loc = []\n",
    "\n",
    "for file in os.listdir(inLoop_path):\n",
    "    #Read all csv files\n",
    "    if file.endswith(\".csv\"):\n",
    "        loc = file[0:10]\n",
    "        data = pd.read_csv(os.path.join(inLoop_path, file), encoding='latin1', sep=\";\")\n",
    "        #Adjust format of timestamps\n",
    "        data['Timestamp'] = pd.to_datetime(data['Timestamp'], format=\"%d.%m.%Y %H:%M\")\n",
    "        #check if data for this loc already exists, then append or create new loc\n",
    "        if loc in inLoop_loc:\n",
    "            index = inLoop_loc.index(loc)\n",
    "            inLoop_data[index] = pd.concat([inLoop_data[index], data], ignore_index=True)\n",
    "        else:\n",
    "            inLoop_data.append(data)\n",
    "            inLoop_loc.append(loc)"
   ]
  },
  {
   "cell_type": "markdown",
   "id": "fa01c843",
   "metadata": {},
   "source": [
    "### Filter data"
   ]
  },
  {
   "cell_type": "code",
   "execution_count": 258,
   "id": "41587cf0",
   "metadata": {},
   "outputs": [
    {
     "name": "stdout",
     "output_type": "stream",
     "text": [
      "Empty DataFrame\n",
      "Columns: [Timestamp, Motorrad (R), LKW (S), LKW (R), Transporter (S), Kleintransporter (R), Kleintransporter (S), PKW (S), Fahrräder, Motorrad (S), PKW (R), Transporter (R)]\n",
      "Index: []\n"
     ]
    }
   ],
   "source": [
    "cam_data_fil = [None] * len(cam_data)\n",
    "inLoop_data_fil = [None] * len(inLoop_data)\n",
    "index_man = 0\n",
    "\n",
    "#Fill the filtered data lists only with data that is available in the manual counts\n",
    "for loc in man_loc:\n",
    "    index_cam = cam_loc.index(loc)\n",
    "    #index_inLoop = inLoop_loc.index(loc)\n",
    "    cam_data_fil[index_cam] = pd.merge(cam_data[index_cam], man_data[index_man]['Timestamp'], on='Timestamp', how='inner')\n",
    "    #inLoop_data_fil[index_inLoop] = pd.merge(inLoop_data[index_inLoop], \n",
    "     #                                        man_data[index_man]['Timestamp'], on='Timestamp', how='inner')\n",
    "    index_manual +=1\n",
    "    \n",
    "print(cam_data_fil[0].head())"
   ]
  },
  {
   "cell_type": "markdown",
   "id": "784bd14f",
   "metadata": {},
   "source": [
    "# Comparisons"
   ]
  },
  {
   "cell_type": "markdown",
   "id": "58f8cf82",
   "metadata": {},
   "source": [
    "### Manual vs. Camera vs. Induction Loop"
   ]
  },
  {
   "cell_type": "code",
   "execution_count": 101,
   "id": "0f182847",
   "metadata": {},
   "outputs": [
    {
     "ename": "IndentationError",
     "evalue": "unexpected indent (3645202016.py, line 9)",
     "output_type": "error",
     "traceback": [
      "\u001b[1;36m  File \u001b[1;32m\"C:\\Users\\Paul\\AppData\\Local\\Temp\\ipykernel_30452\\3645202016.py\"\u001b[1;36m, line \u001b[1;32m9\u001b[0m\n\u001b[1;33m    relevant_timeFrame = pd.concat([relevant_timeFrame, table[[spaltenname]]], ignore_index=True)\u001b[0m\n\u001b[1;37m    ^\u001b[0m\n\u001b[1;31mIndentationError\u001b[0m\u001b[1;31m:\u001b[0m unexpected indent\n"
     ]
    }
   ],
   "source": [
    "\n",
    "    \n",
    "    \n",
    "\n"
   ]
  },
  {
   "cell_type": "code",
   "execution_count": null,
   "id": "ac2345c9",
   "metadata": {},
   "outputs": [],
   "source": []
  },
  {
   "cell_type": "code",
   "execution_count": null,
   "id": "bb6ee3fc",
   "metadata": {},
   "outputs": [],
   "source": []
  }
 ],
 "metadata": {
  "kernelspec": {
   "display_name": "Python 3 (ipykernel)",
   "language": "python",
   "name": "python3"
  },
  "language_info": {
   "codemirror_mode": {
    "name": "ipython",
    "version": 3
   },
   "file_extension": ".py",
   "mimetype": "text/x-python",
   "name": "python",
   "nbconvert_exporter": "python",
   "pygments_lexer": "ipython3",
   "version": "3.9.13"
  }
 },
 "nbformat": 4,
 "nbformat_minor": 5
}
